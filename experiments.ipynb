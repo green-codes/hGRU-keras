{
 "cells": [
  {
   "cell_type": "code",
   "execution_count": null,
   "metadata": {},
   "outputs": [],
   "source": [
    "use_plaidml = False\n",
    "\n",
    "if use_plaidml:\n",
    "    raise NotImplementedError(\"PlaidML implementation broken\")\n",
    "    import plaidml.keras\n",
    "    plaidml.keras.install_backend()\n",
    "    import keras\n",
    "    import keras.backend as K\n",
    "else:\n",
    "    import tensorflow as tf\n",
    "    import tensorflow.keras as keras\n",
    "    import tensorflow.keras.backend as K\n",
    "print(keras.backend.__name__, keras.__version__)"
   ]
  },
  {
   "cell_type": "code",
   "execution_count": null,
   "metadata": {},
   "outputs": [],
   "source": [
    "batch_size = 4"
   ]
  },
  {
   "cell_type": "markdown",
   "metadata": {},
   "source": [
    "# Pathfinder"
   ]
  },
  {
   "cell_type": "code",
   "execution_count": null,
   "metadata": {},
   "outputs": [],
   "source": [
    "from hGRU import hGRUCell, hGRUConv_binary"
   ]
  },
  {
   "cell_type": "code",
   "execution_count": null,
   "metadata": {
    "scrolled": false
   },
   "outputs": [],
   "source": [
    "from data_generator import DataGenerator_Pathfinder\n",
    "gen = DataGenerator_Pathfinder(\"/Users/gcodes/Downloads/code/pathfinder_full/baseline/\", batch_size=batch_size)"
   ]
  },
  {
   "cell_type": "code",
   "execution_count": null,
   "metadata": {},
   "outputs": [],
   "source": [
    "import numpy as np\n",
    "model = hGRUConv_binary(conv1_init = np.load(\"gabor_serre.npy\").transpose([2,3,1,0]))\n",
    "model.compile(optimizer='adam', loss=['binary_crossentropy'])"
   ]
  },
  {
   "cell_type": "code",
   "execution_count": null,
   "metadata": {},
   "outputs": [],
   "source": [
    "load_model = False\n",
    "if load_model:\n",
    "    model.build((None,300,300,1))\n",
    "    model.load_weights(\"model.h5\")"
   ]
  },
  {
   "cell_type": "code",
   "execution_count": null,
   "metadata": {
    "scrolled": true
   },
   "outputs": [],
   "source": [
    "train_history = model.fit_generator(gen, epochs=2)"
   ]
  },
  {
   "cell_type": "code",
   "execution_count": null,
   "metadata": {},
   "outputs": [],
   "source": [
    "model.summary()\n",
    "model.save_weights(\"model_e2.h5\")"
   ]
  },
  {
   "cell_type": "code",
   "execution_count": null,
   "metadata": {},
   "outputs": [],
   "source": [
    "import pickle\n",
    "pickle.dump(train_history.history, open(\"history_e2.pkl\",\"wb\"))"
   ]
  },
  {
   "cell_type": "code",
   "execution_count": null,
   "metadata": {},
   "outputs": [],
   "source": [
    "import os\n",
    "import numpy as np\n",
    "import imageio\n",
    "X_test = np.empty((0,300,300,1))\n",
    "X_path = \"baseline/curv_baseline_neg/imgs/4/\"\n",
    "for i, f in enumerate(os.listdir(X_path)):\n",
    "    print(\"{}/{}\".format(i, len(os.listdir(X_path))), end='\\r')\n",
    "    X_test = np.vstack((X_test, imageio.imread(X_path+f).reshape(1,300,300,1)))\n",
    "    if i > 10: break\n",
    "X_test.shape"
   ]
  },
  {
   "cell_type": "code",
   "execution_count": null,
   "metadata": {},
   "outputs": [],
   "source": [
    "print(model.predict(X_test))\n",
    "# import matplotlib.pyplot as plt\n",
    "# for x in X_test:\n",
    "#     plt.imshow(x.squeeze())\n",
    "#     plt.show()"
   ]
  },
  {
   "cell_type": "code",
   "execution_count": null,
   "metadata": {},
   "outputs": [],
   "source": [
    "import matplotlib.pyplot as plt\n",
    "for i in range(25):\n",
    "    plt.imshow(model.layers[1].weights[4][:,:,0,i])\n",
    "    plt.show()"
   ]
  },
  {
   "cell_type": "markdown",
   "metadata": {},
   "source": [
    "# BSDS500"
   ]
  },
  {
   "cell_type": "code",
   "execution_count": null,
   "metadata": {
    "scrolled": false
   },
   "outputs": [],
   "source": [
    "from data_generator import data_generator_BSDS\n",
    "gen = data_generator_BSDS(\"BSR/BSDS500/data/images/train/\",\"BSR/BSDS500/data/groundTruth/train/\")"
   ]
  },
  {
   "cell_type": "code",
   "execution_count": null,
   "metadata": {},
   "outputs": [],
   "source": [
    "from hGRU import hGRUConv_segment\n",
    "model = hGRUConv_segment()\n",
    "model.compile(optimizer='adam', loss=['binary_crossentropy'])"
   ]
  },
  {
   "cell_type": "code",
   "execution_count": null,
   "metadata": {},
   "outputs": [],
   "source": [
    "model.fit_generator(gen, epochs=1, steps_per_epoch=20)"
   ]
  },
  {
   "cell_type": "code",
   "execution_count": null,
   "metadata": {},
   "outputs": [],
   "source": [
    "x,y = next(gen)\n",
    "import matplotlib.pyplot as plt\n",
    "plt.imshow(model.predict(x)[0].squeeze())\n",
    "plt.show()"
   ]
  },
  {
   "cell_type": "code",
   "execution_count": null,
   "metadata": {},
   "outputs": [],
   "source": []
  }
 ],
 "metadata": {
  "kernelspec": {
   "display_name": "Python 3",
   "language": "python",
   "name": "python3"
  },
  "language_info": {
   "codemirror_mode": {
    "name": "ipython",
    "version": 3
   },
   "file_extension": ".py",
   "mimetype": "text/x-python",
   "name": "python",
   "nbconvert_exporter": "python",
   "pygments_lexer": "ipython3",
   "version": "3.7.4"
  }
 },
 "nbformat": 4,
 "nbformat_minor": 2
}
