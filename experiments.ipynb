{
 "cells": [
  {
   "cell_type": "code",
   "execution_count": null,
   "metadata": {},
   "outputs": [],
   "source": [
    "use_plaidml = False\n",
    "\n",
    "if use_plaidml:\n",
    "    raise Exception(\"PlaidML implementation broken\")\n",
    "    import plaidml.keras\n",
    "    plaidml.keras.install_backend()\n",
    "    import keras\n",
    "    import keras.backend as K\n",
    "else:\n",
    "    import tensorflow as tf\n",
    "    import tensorflow.keras as keras\n",
    "    import tensorflow.keras.backend as K\n",
    "print(keras.backend.__name__, keras.__version__)"
   ]
  },
  {
   "cell_type": "markdown",
   "metadata": {},
   "source": [
    "# Pathfinder"
   ]
  },
  {
   "cell_type": "code",
   "execution_count": null,
   "metadata": {},
   "outputs": [],
   "source": [
    "from hGRU import hGRUCell, hGRUConv_binary"
   ]
  },
  {
   "cell_type": "code",
   "execution_count": null,
   "metadata": {},
   "outputs": [],
   "source": [
    "from data_generator import data_generator_pathfinder\n",
    "gen = data_generator_pathfinder(\"/Users/gcodes/Downloads/code/pathfinder_full/baseline/\", batch_size=8)"
   ]
  },
  {
   "cell_type": "code",
   "execution_count": null,
   "metadata": {
    "scrolled": false
   },
   "outputs": [],
   "source": [
    "import numpy as np\n",
    "model = hGRUConv_binary(conv1_init = np.load(\"gabor_serre.npy\").transpose([2,3,1,0]))\n",
    "model.build(x.shape)\n",
    "model.compile(optimizer='rmsprop', loss=['mean_squared_error'])\n",
    "# model.fit(x=x,y=y, epochs=10)\n",
    "model.fit_generator(gen, epochs=1, steps_per_epoch=100000)\n",
    "model.predict(x)"
   ]
  },
  {
   "cell_type": "code",
   "execution_count": null,
   "metadata": {},
   "outputs": [],
   "source": [
    "model.summary()"
   ]
  },
  {
   "cell_type": "markdown",
   "metadata": {},
   "source": [
    "# BSDS500"
   ]
  },
  {
   "cell_type": "code",
   "execution_count": null,
   "metadata": {
    "scrolled": false
   },
   "outputs": [],
   "source": [
    "from data_generator import data_generator_BSDS\n",
    "gen = data_generator_BSDS(\"BSR/BSDS500/data/images/train/\",\"BSR/BSDS500/data/groundTruth/train/\")"
   ]
  },
  {
   "cell_type": "code",
   "execution_count": null,
   "metadata": {},
   "outputs": [],
   "source": [
    "from hGRU import hGRUConv_segment\n",
    "model = hGRUConv_segment()\n",
    "model.compile(optimizer='adam', loss=['binary_crossentropy'])\n",
    "model.fit_generator(gen, epochs=1, steps_per_epoch=20)"
   ]
  },
  {
   "cell_type": "code",
   "execution_count": null,
   "metadata": {},
   "outputs": [],
   "source": [
    "x,y = next(gen)\n",
    "import matplotlib.pyplot as plt\n",
    "plt.imshow(model.predict(x)[0].squeeze())\n",
    "plt.show()"
   ]
  },
  {
   "cell_type": "code",
   "execution_count": null,
   "metadata": {},
   "outputs": [],
   "source": []
  }
 ],
 "metadata": {
  "kernelspec": {
   "display_name": "Python 3",
   "language": "python",
   "name": "python3"
  },
  "language_info": {
   "codemirror_mode": {
    "name": "ipython",
    "version": 3
   },
   "file_extension": ".py",
   "mimetype": "text/x-python",
   "name": "python",
   "nbconvert_exporter": "python",
   "pygments_lexer": "ipython3",
   "version": "3.7.4"
  }
 },
 "nbformat": 4,
 "nbformat_minor": 2
}
